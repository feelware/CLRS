{
 "cells": [
  {
   "cell_type": "markdown",
   "metadata": {},
   "source": [
    "___1.1-1___\n",
    "\n",
    "**Describe your own real-world example that requires sorting. Describe one that requires finding the shortest distance between two points.**"
   ]
  },
  {
   "cell_type": "markdown",
   "metadata": {},
   "source": [
    "In the context of a maps application, given a list of paths from the current location to a different, user-selected location. The application may need to find not only the actual shortest, but also the one with less traffic, the one with less tolls, the one with less turns, etc. The application may offer the user the option to sort the list of candidates by any of these criteria."
   ]
  },
  {
   "cell_type": "markdown",
   "metadata": {},
   "source": [
    "___1.1-2___\n",
    "\n",
    "**Other than speed, what other measures of efficiency might one use in a real-world setting?**"
   ]
  },
  {
   "cell_type": "markdown",
   "metadata": {},
   "source": [
    "Memory usage, storage usage, bandwidth usage, power usage, etc."
   ]
  },
  {
   "cell_type": "markdown",
   "metadata": {},
   "source": [
    "___1.1-3___\n",
    "\n",
    "**Select a data structure that you have seen previously, and discuss its strengths and limitations.**"
   ]
  },
  {
   "cell_type": "markdown",
   "metadata": {},
   "source": [
    "### Static array\n",
    "\n",
    "Strenghts:\n",
    "- Constant-time element retrieval\n",
    "- Constant-time element replacement\n",
    "\n",
    "Limitations:\n",
    "- Cannot grow or shrink once created"
   ]
  },
  {
   "cell_type": "markdown",
   "metadata": {},
   "source": [
    "___1.1-4___\n",
    "\n",
    "**How are the shortest-path and traveling-salesman problems given above similar? How are they different?**"
   ]
  },
  {
   "cell_type": "markdown",
   "metadata": {},
   "source": [
    "Both take as input a graph representing all available connections in a map and their weights. While the traveling-salesman problem asks for the closed trail with less overall weight such that it passes through all nodes, the shortest-path problem asks for the shortest path between two nodes. The traveling-salesman problem is NP-complete, while the shortest-path problem can be solved in polynomial time."
   ]
  },
  {
   "cell_type": "markdown",
   "metadata": {},
   "source": [
    "___1.1-5___\n",
    "\n",
    "**Suggest a real-world problem in which only the best solution will do. Then come up with one in which a solution that is “approximately” the best is good enough.**"
   ]
  },
  {
   "cell_type": "markdown",
   "metadata": {},
   "source": [
    "- Best solution: A real-time tuner for a musical instrument. A slight deviation from the correct frequency can be perceived by the human ear. It also needs to be fast, as the musician may be playing a fast-paced piece.\n",
    "\n",
    "- Approximately best solution: A search engine. The user may be satisfied with a result that is not the best, as long as there is a good chance that the best result is among the first few results."
   ]
  },
  {
   "cell_type": "markdown",
   "metadata": {},
   "source": [
    "___1.1-6___\n",
    "\n",
    "**Describe a real-world problem in which sometimes the entire input is available before you need to solve the problem, but other times the input is not entirely available in advance and arrives over time.**"
   ]
  },
  {
   "cell_type": "markdown",
   "metadata": {},
   "source": [
    "An audio effect can be applied to a sound file once the entire file is available. However, if the audio is being streamed, like in a live performance, the effect needs to be applied as the audio is being received."
   ]
  }
 ],
 "metadata": {
  "language_info": {
   "name": "python"
  }
 },
 "nbformat": 4,
 "nbformat_minor": 2
}
