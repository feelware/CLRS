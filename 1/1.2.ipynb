{
 "cells": [
  {
   "cell_type": "markdown",
   "metadata": {},
   "source": [
    "***1.2-1***\n",
    "\n",
    "> Give an example of an application that requires algorithmic content at the application level, and discuss the function of the algorithms involved.\n",
    "\n",
    "An spectral audio limiter needs to perform FFT on the audio signal to get the frequency domain representation of the signal. Then, it needs to find all the frequencies that are above a certain threshold and attenuate them. Finally, it needs to perform an inverse FFT to get the signal back to the time domain."
   ]
  },
  {
   "cell_type": "markdown",
   "metadata": {},
   "source": [
    "***1.2-2***\n",
    "\n",
    "> Suppose that for inputs of size $n$ on a particular computer, insertion sort runs in $8n^2$ steps and merge sort runs in $64n\\lg n$ steps. For which values of $n$ does insertion sort beat merge sort?\n",
    "\n",
    "Insertion sort beats merge sort when its running time is smaller than merge sort's running time.\n",
    "\n",
    "$$8n^2 < 64n\\lg n$$\n",
    "\n",
    "This inequality holds when $1.572 < n < 6.507$. Given that $n$ is a positive integer, insertion sort beats merge sort when $n$ is in the range of $[2, 6]$."
   ]
  },
  {
   "cell_type": "markdown",
   "metadata": {},
   "source": [
    "***1.2-3***\n",
    "\n",
    "> Suppose that for inputs of size $n$ on a particular computer, insertion sort runs in $8n^2$ steps and merge sort runs in $64n\\lg n$ steps. For which values of $n$ does insertion sort beat merge sort?\n",
    "\n",
    "The inequality $100n^2 < 2^n$ holds when $n > 14.325$. Given that $n$ is a positive integer, the smallest value of $n$ is $15$."
   ]
  }
 ],
 "metadata": {
  "language_info": {
   "name": "python"
  }
 },
 "nbformat": 4,
 "nbformat_minor": 2
}
