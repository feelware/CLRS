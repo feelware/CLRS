{
 "cells": [
  {
   "cell_type": "markdown",
   "metadata": {},
   "source": [
    "**1-1**\n",
    "\n",
    "### Comparison of running times\n",
    "\n",
    "> For each function $f(n)$ and time $t$ in the following table, determine the largest size $n$ of a problem that can be solved in time $t$, assuming that the algorithm to solve the problem takes $f(n)$ microseconds.\n",
    "\n",
    "First, we convert the time units to microseconds.\n",
    "\n",
    "| 1 second | 1 minute | 1 hour | 1 day | 1 month | 1 year | 1 century |\n",
    "|:---:|:---:|:---:|:---:|:---:|:---:|:---:|\n",
    "| $10^6$ | $6 \\times 10^7$ | $3.6 \\times 10^9$ | $8.64 \\times 10^{10}$ | $2.592 \\times 10^{12}$ | $3.1536 \\times 10^{13}$ | $3.1536 \\times 10^{15}$ |\n",
    "\n",
    "Then, we solve the equation $f(n) = t$ for $n$\n",
    "\n",
    "| $f(n)$ | $10^6$ | $6 \\times 10^7$ | $3.6 \\times 10^9$ | $8.64 \\times 10^{10}$ | $2.592 \\times 10^{12}$ | $3.1536 \\times 10^{13}$ | $3.1536 \\times 10^{15}$ |\n",
    "|:---:|:---:|:---:|:---:|:---:|:---:|:---:|:---:|\n",
    "|$lgn$|?|?|?|?|?|?|?|\n",
    "|$\\sqrt{n}$|?|?|?|?|?|?|?|\n",
    "|$n$|?|?|?|?|?|?|?|\n",
    "|$nlgn$|?|?|?|?|?|?|?|\n",
    "|$n^2$|?|?|?|?|?|?|?|\n",
    "|$n^3$|?|?|?|?|?|?|?|\n",
    "|$2^n$|?|?|?|?|?|?|?|\n",
    "|$n!$|?|?|?|?|?|?|?|"
   ]
  }
 ],
 "metadata": {
  "kernelspec": {
   "display_name": "Python 3",
   "language": "python",
   "name": "python3"
  },
  "language_info": {
   "codemirror_mode": {
    "name": "ipython",
    "version": 3
   },
   "file_extension": ".py",
   "mimetype": "text/x-python",
   "name": "python",
   "nbconvert_exporter": "python",
   "pygments_lexer": "ipython3",
   "version": "3.11.4"
  }
 },
 "nbformat": 4,
 "nbformat_minor": 2
}
