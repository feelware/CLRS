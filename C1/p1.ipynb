{
 "cells": [
  {
   "cell_type": "markdown",
   "metadata": {},
   "source": [
    "**1-1**\n",
    "\n",
    "### Comparison of running times\n",
    "\n",
    "> For each function $f(n)$ and time $t$ in the following table, determine the largest size $n$ of a problem that can be solved in time $t$, assuming that the algorithm to solve the problem takes $f(n)$ microseconds.\n",
    "\n",
    "First, we convert the time units to microseconds.\n",
    "\n",
    "| 1 second | 1 minute | 1 hour | 1 day | 1 month | 1 year | 1 century |\n",
    "|:---:|:---:|:---:|:---:|:---:|:---:|:---:|\n",
    "| $10^6$ | $6 \\times 10^7$ | $3.6 \\times 10^9$ | $8.64 \\times 10^{10}$ | $2.592 \\times 10^{12}$ | $3.154 \\times 10^{13}$ | $3.154 \\times 10^{15}$ |\n",
    "\n",
    "Then, we solve the equation $f(n) = t$ for $n$.\n",
    "\n",
    "| $f(n)$ | $10^6$ | $6 \\times 10^7$ | $3.6 \\times 10^9$ | $8.64 \\times 10^{10}$ | $2.592 \\times 10^{12}$ | $3.154 \\times 10^{13}$ | $3.154 \\times 10^{15}$ |\n",
    "|:---:|:---:|:---:|:---:|:---:|:---:|:---:|:---:|\n",
    "|$\\lg n$| $10^{10^6}$ | $10^{6 \\times 10^7}$ | $10^{3.6 \\times 10^9}$ | $10^{8.64 \\times 10^{10}}$ | $10^{2.592 \\times 10^{12}}$ | $10^{3.154 \\times 10^{13}}$ | $10^{3.154 \\times 10^{15}}$ |\n",
    "|$\\sqrt{n}$| $10^{12}$ | $3.6 \\times 10^{15}$ | $1.296 \\times 10^{18}$ | $7.465 \\times 10^{20}$ | $6.718 \\times 10^{23}$ | $9.945 \\times 10^{25}$ | $9.945 \\times 10^{28}$ |\n",
    "|$n$| $10^6$ | $6 \\times 10^7$ | $3.6 \\times 10^9$ | $8.64 \\times 10^{10}$ | $2.592 \\times 10^{12}$ | $3.154 \\times 10^{13}$ | $3.154 \\times 10^{15}$ |\n",
    "|$n\\lg n$| $1.895 \\times 10^5$ | $8.649 \\times 10^6$ | $4.176 \\times 10^8$ | $8.693 \\times 10^9$ | $2.282 \\times 10^{11}$ | $2.542 \\times 10^{12}$ | $2.199 \\times 10^{14}$ |\n",
    "|$n^2$| $1000$ | $7745$ | $60000$ | $293938$ | $1609968$ | $5615692$ | $56156922$ |\n",
    "|$n^3$| $100$ | $391$ | $1532$ | $4420$ | $13736$ | $31593$ | $146645$ |\n",
    "|$2^n$| $19$ | $25$ | $31$ | $36$ | $41$ | $44$ | $51$ |\n",
    "|$n!$| $9$ | $11$ | $12$ | $13$ | $15$ | $16$ | $17$ |"
   ]
  }
 ],
 "metadata": {
  "kernelspec": {
   "display_name": "Python 3",
   "language": "python",
   "name": "python3"
  },
  "language_info": {
   "codemirror_mode": {
    "name": "ipython",
    "version": 3
   },
   "file_extension": ".py",
   "mimetype": "text/x-python",
   "name": "python",
   "nbconvert_exporter": "python",
   "pygments_lexer": "ipython3",
   "version": "3.11.4"
  }
 },
 "nbformat": 4,
 "nbformat_minor": 2
}
